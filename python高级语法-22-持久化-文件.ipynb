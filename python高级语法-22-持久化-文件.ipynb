{
 "cells": [
  {
   "cell_type": "markdown",
   "metadata": {},
   "source": [
    "# 文件\n",
    "- 长久保存信息的一种数据信息集合\n",
    "- 常用操作\n",
    "    - 打开关闭(文件一旦打开, 需要关闭操作)\n",
    "    - 读写内容\n",
    "    - 查找"
   ]
  },
  {
   "cell_type": "markdown",
   "metadata": {},
   "source": [
    "# open函数\n",
    "- open函数负责打开文件, 带有很多参数\n",
    "- 第一个参数: 必须有, 文件的路径和名称\n",
    "- mode: 表明明文件用什么方式打开\n",
    "    - r: 只读方式打开\n",
    "    - w: 写方式打开, 会覆盖以前的内容; 若不存在, 则创建\n",
    "    - x: 创建方式打开, 如文件已经存在, 报错\n",
    "    - a: append方式, 已追加的方式对文件内容进行写入\n",
    "    - b: binary方式, 二进制方式写入\n",
    "    - t: 文本方式打开\n",
    "    - +: 可读写"
   ]
  },
  {
   "cell_type": "code",
   "execution_count": 1,
   "metadata": {
    "collapsed": true
   },
   "outputs": [],
   "source": [
    "# 打开文件, 用写的方式\n",
    "# f称为文件句柄\n",
    "# r表示后面字符串内容不需要转义\n",
    "f = open(r'test01.txt', 'w')\n",
    "# 文件打开后必须关闭\n",
    "f.close()\n",
    "\n",
    "# 此案例说明, 以写方式打开文件, 默认是若果没有, 则创建"
   ]
  },
  {
   "cell_type": "markdown",
   "metadata": {},
   "source": [
    "# with语句\n",
    "- with语句使用的技术是一种称为上下文管理协议的技术(ContextManagementProtocal)\n",
    "- 自动判断文件的作用域, 自动关闭不再使用的打开着的文件句柄"
   ]
  },
  {
   "cell_type": "code",
   "execution_count": null,
   "metadata": {
    "collapsed": true
   },
   "outputs": [],
   "source": [
    "# with案例1\n",
    "\n",
    "with open(r'test01.txt', 'r') as f:\n",
    "    pass\n",
    "    # 下面语句块开始对文件f进行操作\n",
    "    # 在本模块中不需要再使用close关闭文件f"
   ]
  },
  {
   "cell_type": "code",
   "execution_count": 4,
   "metadata": {},
   "outputs": [
    {
     "name": "stdout",
     "output_type": "stream",
     "text": [
      "假若他日相逢\n",
      "我将何以贺你\n",
      "以沉默\n",
      "以眼泪"
     ]
    }
   ],
   "source": [
    "# with案例2\n",
    "\n",
    "with open(r'test01.txt', 'r') as f:\n",
    "    # 按行读取内容\n",
    "    strline = f.readline()\n",
    "    # 此结构保证能够完整读取文件直到结束, 按行读取的标准结构\n",
    "    while strline:\n",
    "        print(strline)\n",
    "        strline = f.readline()"
   ]
  },
  {
   "cell_type": "code",
   "execution_count": 10,
   "metadata": {},
   "outputs": [
    {
     "name": "stdout",
     "output_type": "stream",
     "text": [
      "4\n",
      "假若他日相逢\n",
      "\n",
      "我将何以贺你\n",
      "\n",
      "以沉默\n",
      "\n",
      "以眼泪\n"
     ]
    }
   ],
   "source": [
    "# list能用打开的文件作为参数, 把文件内每一行内容作为一个元素\n",
    "\n",
    "with open(r'test01.txt', 'r') as f:\n",
    "    # 以打开的文件f为参数, 创建列表\n",
    "    l = list(f)\n",
    "    print(len(l))   # len(l)的结果: 4, 说明l列表中只要4个元素, 每个元素为文件中的每行内容.   \n",
    "    for line in l:\n",
    "        print(line)    "
   ]
  },
  {
   "cell_type": "code",
   "execution_count": 20,
   "metadata": {},
   "outputs": [
    {
     "name": "stdout",
     "output_type": "stream",
     "text": [
      "<class 'str'>\n",
      "21\n",
      "假若他日相逢\n",
      "我将何以贺你\n",
      "以沉默\n",
      "以眼泪\n",
      "假若他日相逢\n",
      "我将何以贺你\n",
      "以沉默\n",
      "以眼泪"
     ]
    }
   ],
   "source": [
    "# read是按字符读取文件内容\n",
    "# read(n)允许输入参数,从当前位置读取指定个数字符; 如果没有指定, 则从当前位置读取到结尾\n",
    "\n",
    "with open(r'test01.txt', 'r') as f:\n",
    "    strChar = f.read()\n",
    "    print(type(strChar))\n",
    "    print(len(strChar))\n",
    "    print(strChar)\n",
    "    \n",
    "# 作业:\n",
    "# 1. 使用read读取文件, 每次读取一个, 使用循环读完\n",
    "# 2. 尽量保持格式(四句话, 每句话一行)\n",
    "\n",
    "with open(r'test01.txt', 'r') as f:\n",
    "    strChar = f.read(1)\n",
    "    while strChar:\n",
    "        print(strChar, end='')\n",
    "        strChar = f.read(1)\n",
    "        \n",
    " "
   ]
  },
  {
   "cell_type": "markdown",
   "metadata": {},
   "source": [
    "# seek(ofset, from)\n",
    "- "
   ]
  },
  {
   "cell_type": "code",
   "execution_count": null,
   "metadata": {
    "collapsed": true
   },
   "outputs": [],
   "source": []
  },
  {
   "cell_type": "code",
   "execution_count": null,
   "metadata": {
    "collapsed": true
   },
   "outputs": [],
   "source": []
  }
 ],
 "metadata": {
  "kernelspec": {
   "display_name": "Python 3",
   "language": "python",
   "name": "python3"
  },
  "language_info": {
   "codemirror_mode": {
    "name": "ipython",
    "version": 3
   },
   "file_extension": ".py",
   "mimetype": "text/x-python",
   "name": "python",
   "nbconvert_exporter": "python",
   "pygments_lexer": "ipython3",
   "version": "3.6.3"
  }
 },
 "nbformat": 4,
 "nbformat_minor": 2
}
